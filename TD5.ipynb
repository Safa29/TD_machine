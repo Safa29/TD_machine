{
  "cells": [
    {
      "cell_type": "markdown",
      "metadata": {
        "colab_type": "text",
        "id": "view-in-github"
      },
      "source": [
        "<a href=\"https://colab.research.google.com/github/Safa29/TD_machine/blob/master/TD5.ipynb\" target=\"_parent\"><img src=\"https://colab.research.google.com/assets/colab-badge.svg\" alt=\"Open In Colab\"/></a>"
      ]
    },
    {
      "cell_type": "code",
      "execution_count": 3,
      "metadata": {
        "id": "R6-nvPcvG1jy"
      },
      "outputs": [],
      "source": [
        "import numpy as np\n",
        "from sympy import *\n",
        "import math\n",
        "from IPython.display import Latex\n",
        "from IPython.display import display, Math"
      ]
    },
    {
      "cell_type": "markdown",
      "metadata": {},
      "source": [
        "# Exercice 1\n",
        "\n",
        "Un moteur asynchrone triphasé porte sur sa plaque signalétique les indications suivantes :\n",
        "230 V/400 V, 50 Hz ; puissance utile mécanique : 15 kW, rendement :0,8, facteur de puissance 0,78 et \n",
        "$1430 tr/min$.\n",
        "\n",
        "* Quel type de couplage du stator doit-on effectuer pour obtenir un fonctionnement avec :\n",
        "\n",
        "    1. Un réseau triphasé de $130/230\\ V$, $50\\ Hz$ ?\n",
        "    1. Un réseau triphasé de $230/400\\ V$, $50\\ Hz$ ?\n",
        "\n",
        "* Le moteur fonctionne sous le réseau $230/400 V$, $50\\ Hz$, définir et calculer:\n",
        "\n",
        "    1. Les puissances actives et réactives ;\n",
        "    1. L’intensité du courant en ligne ;\n",
        "    1. Le nombre de pôles et le glissement ;\n",
        "    1. Le nombre du couple utile.\n",
        "\n"
      ]
    },
    {
      "cell_type": "markdown",
      "metadata": {},
      "source": [
        "## The proposed solution"
      ]
    },
    {
      "cell_type": "code",
      "execution_count": 24,
      "metadata": {
        "id": "bE7preaSHb6h"
      },
      "outputs": [],
      "source": [
        "# Let's initiate our variables\n",
        "Vl=400 #Line voltage\n",
        "f=50\n",
        "Pu=15000\n",
        "eff=0.8 #effecinecy\n",
        "PF=0.78 # Power factor\n",
        "phi=acos(PF) #current/voltage phase based on the power factor\n",
        "N=1430 #motor speed"
      ]
    },
    {
      "cell_type": "code",
      "execution_count": 18,
      "metadata": {},
      "outputs": [
        {
          "name": "stdout",
          "output_type": "stream",
          "text": [
            "Tha active power is: 18750.0 W\n",
            "Tha reactive power is: 18750.0 W\n"
          ]
        }
      ],
      "source": [
        "P=Pu/eff \n",
        "Q=P*tan(phi)\n",
        "\n",
        "print ('Tha active power is:' ,P,'W')\n",
        "print ('Tha reactive power is:' ,P,'W')"
      ]
    },
    {
      "cell_type": "code",
      "execution_count": 19,
      "metadata": {},
      "outputs": [
        {
          "name": "stdout",
          "output_type": "stream",
          "text": [
            "The current is: 34.6965306003381 A\n"
          ]
        }
      ],
      "source": [
        "I=P/(Vl*np.sqrt(3)*cos(phi))\n",
        "print ('The current is:' ,I, 'A')"
      ]
    },
    {
      "cell_type": "code",
      "execution_count": 25,
      "metadata": {},
      "outputs": [
        {
          "name": "stdout",
          "output_type": "stream",
          "text": [
            "The motor sleep is given by: 0.04666666666666667\n"
          ]
        }
      ],
      "source": [
        "#the synchronous speed is\n",
        "Ns=1500\n",
        "#hence\n",
        "g = (Ns-N)/Ns\n",
        "\n",
        "print ('The motor sleep is given by:', g)"
      ]
    },
    {
      "cell_type": "code",
      "execution_count": 27,
      "metadata": {},
      "outputs": [
        {
          "name": "stdout",
          "output_type": "stream",
          "text": [
            "The torque is given by 100.16744670119286 Nm\n"
          ]
        }
      ],
      "source": [
        "Cu=Pu/(2*np.pi*N/60)\n",
        "print ('The torque is given by', Cu,'Nm')"
      ]
    },
    {
      "cell_type": "markdown",
      "metadata": {},
      "source": [
        "# Exercice 2\n",
        "La plaque signalétique d’un moteur asynchrone triphasé à six pôles est la suivante : \n",
        "$400 V/660 V ; 50 Hz ; 17,3 A/10 A ; nn = 960tr/min$, facteur de puissance : $0,80$\n",
        "Le moteur est alimenté par un réseau triphasé $230 V/400 V, 50 Hz$\n",
        "\n",
        "1. Calculer la vitesse de synchronisme $N_s$ du moteur en tours par minute.\n",
        "2. Indiquer et justifier le couplage du moteur.\n",
        "3. Compte tenu des indications de la plaque signalétique, quelle doit être l’intensité du courant nominal: \n",
        "\n",
        "    1. Dans un enroulement ? \n",
        "    1. En ligne ? \n",
        "\n",
        "4. Calculer la puissance active absorbée par le moteur.\n",
        "1. Calculer les pertes Joule dans le stator, sachant que la résistance mesurée entre deux bornes du stator est égale à $1,5\\Omega$\n",
        "1. L’ensemble des autres pertes dans le moteur valent 833 W, calculer la puissance utile du moteur, ainsi que son moment du couple utile nominal."
      ]
    },
    {
      "cell_type": "markdown",
      "metadata": {},
      "source": [
        "## Proposed Solution"
      ]
    },
    {
      "cell_type": "code",
      "execution_count": 46,
      "metadata": {
        "colab": {
          "base_uri": "https://localhost:8080/"
        },
        "id": "yakqZTRFKfmf",
        "outputId": "278c69ba-2cd1-4c46-a76f-5159fbf16abe"
      },
      "outputs": [],
      "source": [
        "# variable initialisation\n",
        "p=6 #poles number\n",
        "f=50 # frequency\n",
        "Vl=400\n",
        "N=960\n",
        "PF=0.8\n",
        "phi=acos(PF)\n",
        "pmec=833\n"
      ]
    },
    {
      "cell_type": "code",
      "execution_count": 33,
      "metadata": {},
      "outputs": [
        {
          "name": "stdout",
          "output_type": "stream",
          "text": [
            "The synchrnous speed is: 1000.0 rpm\n"
          ]
        }
      ],
      "source": [
        "Ns=120*f/p\n",
        "print ('The synchrnous speed is:', Ns,'rpm')"
      ]
    },
    {
      "cell_type": "code",
      "execution_count": 44,
      "metadata": {},
      "outputs": [
        {
          "name": "stdout",
          "output_type": "stream",
          "text": [
            "The line current is: 17.3\n",
            "The active power is: 9588.63327070131 W\n"
          ]
        }
      ],
      "source": [
        "print ('The line current is: 17.3')\n",
        "Il=17.3\n",
        "Ip=10\n",
        "P=Vl*np.sqrt(3)*cos(phi)*Il\n",
        "print('The active power is:', P, 'W')"
      ]
    },
    {
      "cell_type": "code",
      "execution_count": 45,
      "metadata": {},
      "outputs": [
        {
          "name": "stdout",
          "output_type": "stream",
          "text": [
            "The resistor of a winding is given by R=3*Rm/2:  2.25\n",
            "The stator joule losses:  675.0 W\n"
          ]
        }
      ],
      "source": [
        "R=(3/2)*1.5\n",
        "print ('The resistor of a winding is given by R=3*Rm/2: ', R)\n",
        "\n",
        "pjs=3*R*Ip**2\n",
        "print ('The stator joule losses: ', pjs, 'W')\n"
      ]
    },
    {
      "cell_type": "code",
      "execution_count": 47,
      "metadata": {},
      "outputs": [
        {
          "name": "stdout",
          "output_type": "stream",
          "text": [
            "the output poweris : 8080.63327070131 W\n"
          ]
        }
      ],
      "source": [
        "Pu=P-pjs-pmec\n",
        "\n",
        "print ('the output poweris :', Pu, 'W')"
      ]
    },
    {
      "cell_type": "code",
      "execution_count": 49,
      "metadata": {},
      "outputs": [
        {
          "name": "stdout",
          "output_type": "stream",
          "text": [
            "the output torque is:  80.3795455215589 Nm\n"
          ]
        }
      ],
      "source": [
        "Cu=Pu/(2*np.pi*N/60)\n",
        "print ('the output torque is: ', Cu, 'Nm')"
      ]
    },
    {
      "cell_type": "markdown",
      "metadata": {},
      "source": [
        "# exercice 3\n",
        "Un moteur asynchrone triphasé, 8 pôles, est alimenté par un réseau de tension composée $U = 660\\ V$ ; $50\\ Hz$. La résistance d’un enroulement du stator vaut : $Rs= 1,8\\Omega$ .\n",
        "Ce moteur est couplé en étoile, entraine un compresseur à la fréquence de rotation de $720\\ tr/min$. Dans ces conditions, il est traversé par un courant d’intensité $I = 10\\ A$ avec un facteur de puissance égal à $0,78$ ; les pertes mécaniques valent $330\\ W$, les pertes dans le fer (localisées dans le stator) valent $470\\ W$\n",
        "Calculer :\n",
        "\n",
        "1. La puissance électrique absorbée par le moteur $P_a$ ; \n",
        "1. Les pertes par effet Joule au stator $p_{js}$ ; \n",
        "1. La puissance transmise au rotor $P_{tr}$ ; \n",
        "1. La fréquence de synchronisme ns; en déduire le glissement $g$ ; \n",
        "1.  Les pertes par effet Joule au rotor $p_{jr}$ ; \n",
        "1.  La puissance utile $P_u$; en déduire le moment du couple utile $C_u$ ; \n",
        "1.  Le rendement du moteur. \n",
        "1.  la valeur des capacités qui coupler en triangles ramène le facteur de puissance du moteur à $0,96$. \n",
        "1.  la nouvelle valeur efficace du courant de ligne. "
      ]
    },
    {
      "cell_type": "markdown",
      "metadata": {},
      "source": [
        "## Proposed solution"
      ]
    },
    {
      "cell_type": "code",
      "execution_count": 4,
      "metadata": {},
      "outputs": [],
      "source": [
        "# variable initialization\n",
        "p=8\n",
        "Vl=660\n",
        "f=50\n",
        "Rs=1.8\n",
        "Nr=720\n",
        "Il=10\n",
        "PF=0.78\n",
        "phi=acos(0.78)\n",
        "pmec=330\n",
        "pfer=470\n"
      ]
    },
    {
      "cell_type": "code",
      "execution_count": 5,
      "metadata": {},
      "outputs": [
        {
          "name": "stdout",
          "output_type": "stream",
          "text": [
            "The active power is:  8916.59755736458 W\n"
          ]
        }
      ],
      "source": [
        "P=Vl*Il*np.sqrt(3)*cos(phi)\n",
        "print ('The active power is: ', P, 'W')"
      ]
    },
    {
      "cell_type": "code",
      "execution_count": 7,
      "metadata": {},
      "outputs": [
        {
          "name": "stdout",
          "output_type": "stream",
          "text": [
            "Joule losses in the armature is: 540.0 W\n"
          ]
        }
      ],
      "source": [
        "pjs= 3*Rs*Il**2\n",
        "print ('Joule losses in the armature is:', pjs,'W')\n"
      ]
    },
    {
      "cell_type": "code",
      "execution_count": 8,
      "metadata": {},
      "outputs": [
        {
          "name": "stdout",
          "output_type": "stream",
          "text": [
            "The airgap power (tranmisted powe) is:  7906.59755736458 W\n"
          ]
        }
      ],
      "source": [
        "Ptr=P-pjs-pfer\n",
        "\n",
        "print ('The airgap power (tranmisted powe) is: ', Ptr,'W')"
      ]
    },
    {
      "cell_type": "code",
      "execution_count": 14,
      "metadata": {},
      "outputs": [
        {
          "name": "stdout",
          "output_type": "stream",
          "text": [
            "The synchronous speed is:  750.0 rpm\n",
            "The motor slip: 0.04\n"
          ]
        }
      ],
      "source": [
        "Ns=120*f/p\n",
        "print ('The synchronous speed is: ', Ns,'rpm')\n",
        "\n",
        "g=(Ns-Nr)/Ns\n",
        "print ('The motor slip:', g)"
      ]
    },
    {
      "cell_type": "code",
      "execution_count": 15,
      "metadata": {},
      "outputs": [
        {
          "name": "stdout",
          "output_type": "stream",
          "text": [
            "Joule losses in the rotor is: 316.263902294583 W\n"
          ]
        }
      ],
      "source": [
        "pjr=g*Ptr\n",
        "print ('Joule losses in the rotor is:', pjr,'W')"
      ]
    },
    {
      "cell_type": "code",
      "execution_count": 16,
      "metadata": {},
      "outputs": [
        {
          "name": "stdout",
          "output_type": "stream",
          "text": [
            "the output power is:  7260.33365507000 W\n",
            "the output torque is:  96.2931658084032 W\n"
          ]
        }
      ],
      "source": [
        "Pu=Ptr-pjr-pmec\n",
        "\n",
        "print ('the output power is: ', Pu,'W')\n",
        "\n",
        "Cu=Pu/(2*np.pi*Nr/60)\n",
        "print ('the output torque is: ', Cu,'W')\n"
      ]
    },
    {
      "cell_type": "code",
      "execution_count": 20,
      "metadata": {},
      "outputs": [
        {
          "name": "stdout",
          "output_type": "stream",
          "text": [
            "the motor effeciency is:  81.4249337638144 %\n"
          ]
        }
      ],
      "source": [
        "print('the motor effeciency is: ', Pu/P*100,'%')"
      ]
    },
    {
      "cell_type": "code",
      "execution_count": 34,
      "metadata": {},
      "outputs": [
        {
          "name": "stdout",
          "output_type": "stream",
          "text": [
            "The need capacitor is: 11.0900507303112 uF\n"
          ]
        }
      ],
      "source": [
        "phi2=acos(0.96)\n",
        "C=P*(tan(phi) -tan(phi2)) /((2*np.pi*f)*3*Vl**2)\n",
        "print ('The need capacitor is:' , C*10**6,'uF')"
      ]
    },
    {
      "cell_type": "code",
      "execution_count": 33,
      "metadata": {},
      "outputs": [
        {
          "name": "stdout",
          "output_type": "stream",
          "text": [
            "The new line current: 8.12500000000000 A\n"
          ]
        }
      ],
      "source": [
        "Il2=P/(Vl*np.sqrt(3)*cos(phi2))\n",
        "\n",
        "print ('The new line current:', Il2, 'A')"
      ]
    },
    {
      "cell_type": "code",
      "execution_count": null,
      "metadata": {},
      "outputs": [],
      "source": []
    }
  ],
  "metadata": {
    "colab": {
      "authorship_tag": "ABX9TyOknmHqfSE0p1RMnjYmZKcm",
      "collapsed_sections": [],
      "include_colab_link": true,
      "mount_file_id": "1VWXEJiiJMbT_-QoAWwelfAWHeQyR9RKu",
      "provenance": []
    },
    "kernelspec": {
      "display_name": "Python 3.10.4 64-bit",
      "language": "python",
      "name": "python3"
    },
    "language_info": {
      "codemirror_mode": {
        "name": "ipython",
        "version": 3
      },
      "file_extension": ".py",
      "mimetype": "text/x-python",
      "name": "python",
      "nbconvert_exporter": "python",
      "pygments_lexer": "ipython3",
      "version": "3.10.4"
    },
    "vscode": {
      "interpreter": {
        "hash": "3165eb73e81506be9642a860ceb367db037d914c8edf1ce15dd258b028b64a1e"
      }
    }
  },
  "nbformat": 4,
  "nbformat_minor": 0
}
