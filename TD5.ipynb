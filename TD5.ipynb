{
  "cells": [
    {
      "cell_type": "markdown",
      "metadata": {
        "colab_type": "text",
        "id": "view-in-github"
      },
      "source": [
        "<a href=\"https://colab.research.google.com/github/Safa29/TD_machine/blob/master/TD3.ipynb\" target=\"_parent\"><img src=\"https://colab.research.google.com/assets/colab-badge.svg\" alt=\"Open In Colab\"/></a>"
      ]
    },
    {
      "cell_type": "code",
      "execution_count": 5,
      "metadata": {
        "id": "R6-nvPcvG1jy"
      },
      "outputs": [],
      "source": [
        "import numpy as np\n",
        "from sympy import *\n",
        "import math\n",
        "from IPython.display import Latex\n",
        "from IPython.display import display, Math"
      ]
    },
    {
      "cell_type": "markdown",
      "metadata": {},
      "source": [
        "# Exercice 1\n",
        "\n",
        "Un moteur asynchrone triphasé porte sur sa plaque signalétique les indications suivantes :\n",
        "230 V/400 V, 50 Hz ; puissance utile mécanique : 15 kW, rendement :0,8, facteur de puissance 0,78 et \n",
        "$1430 tr/min$.\n",
        "\n",
        "* Quel type de couplage du stator doit-on effectuer pour obtenir un fonctionnement avec :\n",
        "\n",
        "    1. Un réseau triphasé de $130/230\\ V$, $50\\ Hz$ ?\n",
        "    1. Un réseau triphasé de $230/400\\ V$, $50\\ Hz$ ?\n",
        "\n",
        "* Le moteur fonctionne sous le réseau $230/400 V$, $50\\ Hz$, définir et calculer:\n",
        "\n",
        "    1. Les puissances actives et réactives ;\n",
        "    1. L’intensité du courant en ligne ;\n",
        "    1. Le nombre de pôles et le glissement ;\n",
        "    1. Le nombre du couple utile.\n",
        "\n"
      ]
    },
    {
      "cell_type": "markdown",
      "metadata": {},
      "source": [
        "## The proposed solution"
      ]
    },
    {
      "cell_type": "code",
      "execution_count": 24,
      "metadata": {
        "id": "bE7preaSHb6h"
      },
      "outputs": [],
      "source": [
        "# Let's initiate our variables\n",
        "Vl=400 #Line voltage\n",
        "f=50\n",
        "Pu=15000\n",
        "eff=0.8 #effecinecy\n",
        "PF=0.78 # Power factor\n",
        "phi=acos(PF) #current/voltage phase based on the power factor\n",
        "N=1430 #motor speed"
      ]
    },
    {
      "cell_type": "code",
      "execution_count": 18,
      "metadata": {},
      "outputs": [
        {
          "name": "stdout",
          "output_type": "stream",
          "text": [
            "Tha active power is: 18750.0 W\n",
            "Tha reactive power is: 18750.0 W\n"
          ]
        }
      ],
      "source": [
        "P=Pu/eff \n",
        "Q=P*tan(phi)\n",
        "\n",
        "print ('Tha active power is:' ,P,'W')\n",
        "print ('Tha reactive power is:' ,P,'W')"
      ]
    },
    {
      "cell_type": "code",
      "execution_count": 19,
      "metadata": {},
      "outputs": [
        {
          "name": "stdout",
          "output_type": "stream",
          "text": [
            "The current is: 34.6965306003381 A\n"
          ]
        }
      ],
      "source": [
        "I=P/(Vl*np.sqrt(3)*cos(phi))\n",
        "print ('The current is:' ,I, 'A')"
      ]
    },
    {
      "cell_type": "code",
      "execution_count": 25,
      "metadata": {},
      "outputs": [
        {
          "name": "stdout",
          "output_type": "stream",
          "text": [
            "The motor sleep is given by: 0.04666666666666667\n"
          ]
        }
      ],
      "source": [
        "#the synchronous speed is\n",
        "Ns=1500\n",
        "#hence\n",
        "g = (Ns-N)/Ns\n",
        "\n",
        "print ('The motor sleep is given by:', g)"
      ]
    },
    {
      "cell_type": "code",
      "execution_count": 27,
      "metadata": {},
      "outputs": [
        {
          "name": "stdout",
          "output_type": "stream",
          "text": [
            "The torque is given by 100.16744670119286 Nm\n"
          ]
        }
      ],
      "source": [
        "Cu=Pu/(2*np.pi*N/60)\n",
        "print ('The torque is given by', Cu,'Nm')"
      ]
    },
    {
      "cell_type": "markdown",
      "metadata": {},
      "source": [
        "# Exercice 2\n",
        "La plaque signalétique d’un moteur asynchrone triphasé à six pôles est la suivante : \n",
        "$400 V/660 V ; 50 Hz ; 17,3 A/10 A ; nn = 960tr/min$, facteur de puissance : $0,80$\n",
        "Le moteur est alimenté par un réseau triphasé $230 V/400 V, 50 Hz$\n",
        "\n",
        "1. Calculer la vitesse de synchronisme $N_s$ du moteur en tours par minute.\n",
        "2. Indiquer et justifier le couplage du moteur.\n",
        "3. Compte tenu des indications de la plaque signalétique, quelle doit être l’intensité du courant nominal: \n",
        "\n",
        "    1. Dans un enroulement ? \n",
        "    1. En ligne ? \n",
        "\n",
        "4. Calculer la puissance active absorbée par le moteur.\n",
        "1. Calculer les pertes Joule dans le stator, sachant que la résistance mesurée entre deux bornes du stator est égale à $1,5\\Omega$\n",
        "1. L’ensemble des autres pertes dans le moteur valent 833 W, calculer la puissance utile du moteur, ainsi que son moment du couple utile nominal."
      ]
    },
    {
      "cell_type": "markdown",
      "metadata": {},
      "source": [
        "## Proposed Solution"
      ]
    },
    {
      "cell_type": "code",
      "execution_count": 46,
      "metadata": {
        "colab": {
          "base_uri": "https://localhost:8080/"
        },
        "id": "yakqZTRFKfmf",
        "outputId": "278c69ba-2cd1-4c46-a76f-5159fbf16abe"
      },
      "outputs": [],
      "source": [
        "# variable initialisation\n",
        "p=6 #poles number\n",
        "f=50 # frequency\n",
        "Vl=400\n",
        "N=960\n",
        "PF=0.8\n",
        "phi=acos(PF)\n",
        "pmec=833\n"
      ]
    },
    {
      "cell_type": "code",
      "execution_count": 33,
      "metadata": {},
      "outputs": [
        {
          "name": "stdout",
          "output_type": "stream",
          "text": [
            "The synchrnous speed is: 1000.0 rpm\n"
          ]
        }
      ],
      "source": [
        "Ns=120*f/p\n",
        "print ('The synchrnous speed is:', Ns,'rpm')"
      ]
    },
    {
      "cell_type": "code",
      "execution_count": 44,
      "metadata": {},
      "outputs": [
        {
          "name": "stdout",
          "output_type": "stream",
          "text": [
            "The line current is: 17.3\n",
            "The active power is: 9588.63327070131 W\n"
          ]
        }
      ],
      "source": [
        "print ('The line current is: 17.3')\n",
        "Il=17.3\n",
        "Ip=10\n",
        "P=Vl*np.sqrt(3)*cos(phi)*Il\n",
        "print('The active power is:', P, 'W')"
      ]
    },
    {
      "cell_type": "code",
      "execution_count": 45,
      "metadata": {},
      "outputs": [
        {
          "name": "stdout",
          "output_type": "stream",
          "text": [
            "The resistor of a winding is given by R=3*Rm/2:  2.25\n",
            "The stator joule losses:  675.0 W\n"
          ]
        }
      ],
      "source": [
        "R=(3/2)*1.5\n",
        "print ('The resistor of a winding is given by R=3*Rm/2: ', R)\n",
        "\n",
        "pjs=3*R*Ip**2\n",
        "print ('The stator joule losses: ', pjs, 'W')\n"
      ]
    },
    {
      "cell_type": "code",
      "execution_count": 47,
      "metadata": {},
      "outputs": [
        {
          "name": "stdout",
          "output_type": "stream",
          "text": [
            "the output poweris : 8080.63327070131 W\n"
          ]
        }
      ],
      "source": [
        "Pu=P-pjs-pmec\n",
        "\n",
        "print ('the output poweris :', Pu, 'W')"
      ]
    },
    {
      "cell_type": "code",
      "execution_count": 49,
      "metadata": {},
      "outputs": [
        {
          "name": "stdout",
          "output_type": "stream",
          "text": [
            "the output torque is:  80.3795455215589 Nm\n"
          ]
        }
      ],
      "source": [
        "Cu=Pu/(2*np.pi*N/60)\n",
        "print ('the output torque is: ', Cu, 'Nm')"
      ]
    },
    {
      "cell_type": "code",
      "execution_count": null,
      "metadata": {},
      "outputs": [],
      "source": []
    }
  ],
  "metadata": {
    "colab": {
      "authorship_tag": "ABX9TyOknmHqfSE0p1RMnjYmZKcm",
      "collapsed_sections": [],
      "include_colab_link": true,
      "mount_file_id": "1VWXEJiiJMbT_-QoAWwelfAWHeQyR9RKu",
      "provenance": []
    },
    "kernelspec": {
      "display_name": "Python 3.10.4 64-bit",
      "language": "python",
      "name": "python3"
    },
    "language_info": {
      "codemirror_mode": {
        "name": "ipython",
        "version": 3
      },
      "file_extension": ".py",
      "mimetype": "text/x-python",
      "name": "python",
      "nbconvert_exporter": "python",
      "pygments_lexer": "ipython3",
      "version": "3.10.4"
    },
    "vscode": {
      "interpreter": {
        "hash": "3165eb73e81506be9642a860ceb367db037d914c8edf1ce15dd258b028b64a1e"
      }
    }
  },
  "nbformat": 4,
  "nbformat_minor": 0
}
