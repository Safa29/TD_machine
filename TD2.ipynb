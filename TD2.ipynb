{
  "nbformat": 4,
  "nbformat_minor": 0,
  "metadata": {
    "colab": {
      "provenance": [],
      "authorship_tag": "ABX9TyM+f77FqG2pQIOiVBgM1Cvx",
      "include_colab_link": true
    },
    "kernelspec": {
      "name": "python3",
      "display_name": "Python 3"
    },
    "language_info": {
      "name": "python"
    }
  },
  "cells": [
    {
      "cell_type": "markdown",
      "metadata": {
        "id": "view-in-github",
        "colab_type": "text"
      },
      "source": [
        "<a href=\"https://colab.research.google.com/github/Safa29/TD_machine/blob/master/TD2.ipynb\" target=\"_parent\"><img src=\"https://colab.research.google.com/assets/colab-badge.svg\" alt=\"Open In Colab\"/></a>"
      ]
    },
    {
      "cell_type": "code",
      "execution_count": null,
      "metadata": {
        "id": "bld1dh_YETcJ"
      },
      "outputs": [],
      "source": []
    },
    {
      "cell_type": "code",
      "source": [
        "# -*- coding: utf-8 -*-\n",
        "\"\"\"\n",
        "Created on Tue Oct 04 10:12:08 2022\n",
        "\n",
        "@author: Ahmed\n",
        "\"\"\"\n",
        "\n",
        "\n",
        "import numpy as np\n",
        "from sympy import *\n",
        "import math\n",
        "Vlmax, van, vbn, vcn, w, t, S, Il,Vll,Vln,R, L,IRL,Z = symbols(\"Z IRL Vlmax van vbn vcn w t S Il Vln Vll R L\", real=True)\n",
        "\n",
        "\n",
        "exp2={R:5.11,L: 2.95, w:2*pi*60, Vll: 460}\n",
        "\n",
        "Vln=Vll/math.sqrt(3)\n",
        "Vlmax=math.sqrt(2)*Vll/math.sqrt(3)\n",
        "\n",
        "van=abs(Vlmax.evalf(subs=(exp2)))*cos(w*t)\n",
        "vbn=abs(Vlmax.evalf(subs=(exp2)))*cos(w*t-(2*pi/3))\n",
        "vcn=abs(Vlmax.evalf(subs=(exp2)))*cos(w*t+(2*pi/3))\n",
        "\n",
        "print('van= ', van)\n",
        "print('vbn= ', vbn)\n",
        "print('vcn= ', vcn)\n",
        "\n",
        "S=50000*np.exp(0.3490658503988659j)\n",
        "\n",
        "P=re(S)\n",
        "Q=im(S)\n",
        "print ('The active power P: ', P, 'W')\n",
        "\n",
        "print ('The reactive power Q: ', Q, 'VAR')\n",
        "\n",
        "Il=conjugate(S)/(3*Vln)\n",
        "\n",
        "print ('The magnitude of line current is:', abs(Il.evalf(subs=(exp2))), 'A')\n",
        "print ('The argument of line current is:', np.rad2deg(float(arg(Il.evalf(subs=(exp2))))), 'deg')\n",
        "\n",
        "Z= R+I*w*L\n",
        "IRL=Vln/Z\n",
        "\n",
        "print ('The magnitude impedance current is: ' ,abs(IRL.evalf(subs=(exp2))), 'A')\n",
        "print ('The argument impedance current is: ' ,np.rad2deg(float(arg(IRL.evalf(subs=(exp2))))), 'deg')\n",
        "\n",
        "Ic=Il-IRL\n",
        "\n",
        "print ('The magnitude impedance current is: ' ,abs(Ic.evalf(subs=(exp2))), 'A')\n",
        "print ('The argument impedance current is: ' ,np.rad2deg(float(arg(Ic.evalf(subs=(exp2))))), 'deg')\n"
      ],
      "metadata": {
        "id": "S0BQmrbVErI5"
      },
      "execution_count": null,
      "outputs": []
    }
  ]
}